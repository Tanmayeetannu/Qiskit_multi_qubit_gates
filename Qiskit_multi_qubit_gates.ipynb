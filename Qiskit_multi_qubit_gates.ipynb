{
  "nbformat": 4,
  "nbformat_minor": 0,
  "metadata": {
    "colab": {
      "provenance": []
    },
    "kernelspec": {
      "name": "python3",
      "display_name": "Python 3"
    },
    "language_info": {
      "name": "python"
    }
  },
  "cells": [
    {
      "cell_type": "code",
      "source": [
        "!pip install qiskit qiskit-aer --upgrade"
      ],
      "metadata": {
        "id": "Mx6284lurNt1",
        "colab": {
          "base_uri": "https://localhost:8080/"
        },
        "outputId": "7b6bc196-4aa3-4208-908d-8ac5c68073ac"
      },
      "execution_count": 1,
      "outputs": [
        {
          "output_type": "stream",
          "name": "stdout",
          "text": [
            "Collecting qiskit\n",
            "  Downloading qiskit-2.2.1-cp39-abi3-manylinux2014_x86_64.manylinux_2_17_x86_64.whl.metadata (12 kB)\n",
            "Collecting qiskit-aer\n",
            "  Downloading qiskit_aer-0.17.2-cp312-cp312-manylinux_2_17_x86_64.manylinux2014_x86_64.whl.metadata (8.3 kB)\n",
            "Collecting rustworkx>=0.15.0 (from qiskit)\n",
            "  Downloading rustworkx-0.17.1-cp39-abi3-manylinux_2_17_x86_64.manylinux2014_x86_64.whl.metadata (10 kB)\n",
            "Requirement already satisfied: numpy<3,>=1.17 in /usr/local/lib/python3.12/dist-packages (from qiskit) (2.0.2)\n",
            "Requirement already satisfied: scipy>=1.5 in /usr/local/lib/python3.12/dist-packages (from qiskit) (1.16.2)\n",
            "Requirement already satisfied: dill>=0.3 in /usr/local/lib/python3.12/dist-packages (from qiskit) (0.3.8)\n",
            "Collecting stevedore>=3.0.0 (from qiskit)\n",
            "  Downloading stevedore-5.5.0-py3-none-any.whl.metadata (2.2 kB)\n",
            "Requirement already satisfied: typing-extensions in /usr/local/lib/python3.12/dist-packages (from qiskit) (4.15.0)\n",
            "Requirement already satisfied: psutil>=5 in /usr/local/lib/python3.12/dist-packages (from qiskit-aer) (5.9.5)\n",
            "Requirement already satisfied: python-dateutil>=2.8.0 in /usr/local/lib/python3.12/dist-packages (from qiskit-aer) (2.9.0.post0)\n",
            "Requirement already satisfied: six>=1.5 in /usr/local/lib/python3.12/dist-packages (from python-dateutil>=2.8.0->qiskit-aer) (1.17.0)\n",
            "Downloading qiskit-2.2.1-cp39-abi3-manylinux2014_x86_64.manylinux_2_17_x86_64.whl (8.0 MB)\n",
            "\u001b[2K   \u001b[90m━━━━━━━━━━━━━━━━━━━━━━━━━━━━━━━━━━━━━━━━\u001b[0m \u001b[32m8.0/8.0 MB\u001b[0m \u001b[31m67.3 MB/s\u001b[0m eta \u001b[36m0:00:00\u001b[0m\n",
            "\u001b[?25hDownloading qiskit_aer-0.17.2-cp312-cp312-manylinux_2_17_x86_64.manylinux2014_x86_64.whl (12.4 MB)\n",
            "\u001b[2K   \u001b[90m━━━━━━━━━━━━━━━━━━━━━━━━━━━━━━━━━━━━━━━━\u001b[0m \u001b[32m12.4/12.4 MB\u001b[0m \u001b[31m122.0 MB/s\u001b[0m eta \u001b[36m0:00:00\u001b[0m\n",
            "\u001b[?25hDownloading rustworkx-0.17.1-cp39-abi3-manylinux_2_17_x86_64.manylinux2014_x86_64.whl (2.2 MB)\n",
            "\u001b[2K   \u001b[90m━━━━━━━━━━━━━━━━━━━━━━━━━━━━━━━━━━━━━━━━\u001b[0m \u001b[32m2.2/2.2 MB\u001b[0m \u001b[31m97.5 MB/s\u001b[0m eta \u001b[36m0:00:00\u001b[0m\n",
            "\u001b[?25hDownloading stevedore-5.5.0-py3-none-any.whl (49 kB)\n",
            "\u001b[2K   \u001b[90m━━━━━━━━━━━━━━━━━━━━━━━━━━━━━━━━━━━━━━━━\u001b[0m \u001b[32m49.5/49.5 kB\u001b[0m \u001b[31m2.9 MB/s\u001b[0m eta \u001b[36m0:00:00\u001b[0m\n",
            "\u001b[?25hInstalling collected packages: stevedore, rustworkx, qiskit, qiskit-aer\n",
            "Successfully installed qiskit-2.2.1 qiskit-aer-0.17.2 rustworkx-0.17.1 stevedore-5.5.0\n"
          ]
        }
      ]
    },
    {
      "cell_type": "code",
      "execution_count": 2,
      "metadata": {
        "id": "VPOwLacGrCdU",
        "colab": {
          "base_uri": "https://localhost:8080/"
        },
        "outputId": "2a91846b-1e46-4dcf-f750-9677dd2afca3"
      },
      "outputs": [
        {
          "output_type": "stream",
          "name": "stdout",
          "text": [
            "Quantum Circuit (Control/Target Swapped):\n",
            "             ┌───┐       ░ ┌─┐   \n",
            "   q_0: ─────┤ X ├─■──X──░─┤M├───\n",
            "        ┌───┐└─┬─┘ │  │  ░ └╥┘┌─┐\n",
            "   q_1: ┤ H ├──■───■──X──░──╫─┤M├\n",
            "        └───┘            ░  ║ └╥┘\n",
            "   c: 2/════════════════════╬══╬═\n",
            "                            ║  ║ \n",
            "meas: 2/════════════════════╩══╩═\n",
            "                            0  1 \n",
            "\n",
            "Measurement Counts: {'11 00': 511, '00 00': 513}\n"
          ]
        }
      ],
      "source": [
        "# Task 1: Control/Target Variation\n",
        "\n",
        "from qiskit import QuantumCircuit, transpile\n",
        "from qiskit_aer import AerSimulator\n",
        "\n",
        "# Initialize simulator\n",
        "sim = AerSimulator()\n",
        "\n",
        "# Create a 2-qubit circuit\n",
        "qc1 = QuantumCircuit(2, 2)\n",
        "\n",
        "# --- Apply multi-qubit gates with swapped control/target ---\n",
        "qc1.h(1)        # Hadamard on qubit 1 instead of qubit 0\n",
        "qc1.cx(1, 0)    # CNOT with control qubit 1 and target qubit 0\n",
        "qc1.cz(1, 0)    # Controlled-Z with control qubit 1 and target qubit 0\n",
        "qc1.swap(0, 1)  # Swap qubits 0 and 1\n",
        "\n",
        "# Measure all qubits\n",
        "qc1.measure_all()\n",
        "\n",
        "# Display the circuit\n",
        "print(\"Quantum Circuit (Control/Target Swapped):\")\n",
        "print(qc1.draw())\n",
        "\n",
        "# Run simulation\n",
        "compiled1 = transpile(qc1, sim)\n",
        "result1 = sim.run(compiled1, shots=1024).result()\n",
        "\n",
        "# Display results\n",
        "counts1 = result1.get_counts()\n",
        "print(\"\\nMeasurement Counts:\", counts1)\n"
      ]
    },
    {
      "cell_type": "code",
      "source": [
        "# Task 2: Gate Removal (Remove SWAP gate)\n",
        "\n",
        "from qiskit import QuantumCircuit, transpile\n",
        "from qiskit_aer import AerSimulator\n",
        "\n",
        "# Initialize simulator\n",
        "sim = AerSimulator()\n",
        "\n",
        "# Create a 2-qubit circuit without SWAP gate\n",
        "qc2 = QuantumCircuit(2, 2)\n",
        "\n",
        "qc2.h(0)        # Hadamard on qubit 0\n",
        "qc2.cx(0, 1)    # CNOT with control 0 and target 1\n",
        "qc2.cz(0, 1)    # Controlled-Z\n",
        "# qc2.swap(0, 1)  # SWAP gate removed\n",
        "\n",
        "# Measure all qubits\n",
        "qc2.measure_all()\n",
        "\n",
        "# Display the circuit\n",
        "print(\"Quantum Circuit (SWAP gate removed):\")\n",
        "print(qc2.draw())\n",
        "\n",
        "# Run simulation\n",
        "compiled2 = transpile(qc2, sim)\n",
        "result2 = sim.run(compiled2, shots=1024).result()\n",
        "\n",
        "# Display results\n",
        "counts2 = result2.get_counts()\n",
        "print(\"\\nMeasurement Counts:\", counts2)\n",
        "\n",
        "# Explanation:\n",
        "# The SWAP gate exchanges the states of two qubits.\n",
        "# Removing it changes which qubit ends up in which state at measurement.\n",
        "# Without SWAP, qubit 0 remains as control and qubit 1 as target throughout the circuit,\n",
        "# so the output bit order and correlation will differ from the original.\n"
      ],
      "metadata": {
        "id": "XXSzfpG9q7hc",
        "colab": {
          "base_uri": "https://localhost:8080/"
        },
        "outputId": "2d35d36d-582a-4cbb-ba83-a4a2bc43f0f7"
      },
      "execution_count": 3,
      "outputs": [
        {
          "output_type": "stream",
          "name": "stdout",
          "text": [
            "Quantum Circuit (SWAP gate removed):\n",
            "        ┌───┐         ░ ┌─┐   \n",
            "   q_0: ┤ H ├──■───■──░─┤M├───\n",
            "        └───┘┌─┴─┐ │  ░ └╥┘┌─┐\n",
            "   q_1: ─────┤ X ├─■──░──╫─┤M├\n",
            "             └───┘    ░  ║ └╥┘\n",
            "   c: 2/═════════════════╬══╬═\n",
            "                         ║  ║ \n",
            "meas: 2/═════════════════╩══╩═\n",
            "                         0  1 \n",
            "\n",
            "Measurement Counts: {'11 00': 514, '00 00': 510}\n"
          ]
        }
      ]
    },
    {
      "cell_type": "code",
      "source": [
        "# Task 3: Add Another Hadamard (on second qubit before CNOT)\n",
        "\n",
        "from qiskit import QuantumCircuit, transpile\n",
        "from qiskit_aer import AerSimulator\n",
        "\n",
        "# Initialize simulator\n",
        "sim = AerSimulator()\n",
        "\n",
        "# Create a 2-qubit circuit\n",
        "qc3 = QuantumCircuit(2, 2)\n",
        "\n",
        "qc3.h(0)        # Hadamard on qubit 0\n",
        "qc3.h(1)        # Additional Hadamard on qubit 1 (new)\n",
        "qc3.cx(0, 1)    # CNOT with control 0, target 1\n",
        "qc3.cz(0, 1)    # Controlled-Z\n",
        "qc3.swap(0, 1)  # SWAP qubits\n",
        "\n",
        "# Measure all qubits\n",
        "qc3.measure_all()\n",
        "\n",
        "# Display the circuit\n",
        "print(\"Quantum Circuit (Additional H on Qubit 1):\")\n",
        "print(qc3.draw())\n",
        "\n",
        "# Run simulation\n",
        "compiled3 = transpile(qc3, sim)\n",
        "result3 = sim.run(compiled3, shots=1024).result()\n",
        "\n",
        "# Display results\n",
        "counts3 = result3.get_counts()\n",
        "print(\"\\nMeasurement Counts:\", counts3)\n",
        "\n",
        "# Explanation:\n",
        "# Adding another Hadamard on qubit 1 introduces superposition before entanglement.\n",
        "# This increases the number of possible interference patterns between qubits.\n",
        "# The result is often a more \"mixed\" or balanced output distribution across all states (00, 01, 10, 11),\n",
        "# compared to the original circuit which had more predictable correlations.\n"
      ],
      "metadata": {
        "colab": {
          "base_uri": "https://localhost:8080/"
        },
        "id": "2jP_zKfGNZ_9",
        "outputId": "887070bf-5b39-4342-f41d-571e07d10c6e"
      },
      "execution_count": 4,
      "outputs": [
        {
          "output_type": "stream",
          "name": "stdout",
          "text": [
            "Quantum Circuit (Additional H on Qubit 1):\n",
            "        ┌───┐            ░ ┌─┐   \n",
            "   q_0: ┤ H ├──■───■──X──░─┤M├───\n",
            "        ├───┤┌─┴─┐ │  │  ░ └╥┘┌─┐\n",
            "   q_1: ┤ H ├┤ X ├─■──X──░──╫─┤M├\n",
            "        └───┘└───┘       ░  ║ └╥┘\n",
            "   c: 2/════════════════════╬══╬═\n",
            "                            ║  ║ \n",
            "meas: 2/════════════════════╩══╩═\n",
            "                            0  1 \n",
            "\n",
            "Measurement Counts: {'11 00': 260, '10 00': 238, '00 00': 266, '01 00': 260}\n"
          ]
        }
      ]
    }
  ]
}